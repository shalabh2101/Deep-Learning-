{
  "nbformat": 4,
  "nbformat_minor": 0,
  "metadata": {
    "colab": {
      "name": "CMPE-258_RL_part2.ipynb",
      "provenance": []
    },
    "kernelspec": {
      "name": "python3",
      "display_name": "Python 3"
    }
  },
  "cells": [
    {
      "cell_type": "code",
      "metadata": {
        "id": "qnems2kkiLdS"
      },
      "source": [
        "import numpy as np\n",
        "import random\n",
        "import gym\n",
        "from gym import wrappers\n",
        "import matplotlib.pyplot as plt\n",
        "import tensorflow.compat.v1 as tf\n",
        "tf.disable_v2_behavior()\n"
      ],
      "execution_count": 26,
      "outputs": []
    },
    {
      "cell_type": "code",
      "metadata": {
        "id": "fVs7B6SCindB"
      },
      "source": [
        "env = gym.make('FrozenLake-v0')\n",
        "env = wrappers.Monitor(env, 'FrozenLake-record',force=True)"
      ],
      "execution_count": 27,
      "outputs": []
    },
    {
      "cell_type": "code",
      "metadata": {
        "id": "oOkzAA9tiqXp"
      },
      "source": [
        "# Env variables\n",
        "nb_states = 16\n",
        "nb_actions = 4\n",
        "\n",
        "y = .90\n",
        "lr = .9\n",
        "e = 1.0\n",
        "e_decay = 0.999\n",
        "\n",
        "#Loop Parameters\n",
        "nb_max_episodes = 12000\n",
        "episode_count = 0\n",
        "total_steps = 0\n",
        "test_freq = 50\n",
        "log_freq = 500"
      ],
      "execution_count": 38,
      "outputs": []
    },
    {
      "cell_type": "code",
      "metadata": {
        "id": "z83BSY4fiug0"
      },
      "source": [
        "x = tf.placeholder(shape=[1,16],dtype=tf.float32)\n",
        "W = tf.Variable(tf.random_uniform([16,4],0,0.01))\n",
        "Qout = tf.matmul(x,W)\n",
        "\n",
        "nextQ = tf.placeholder(shape=[1,4],dtype=tf.float32)\n",
        "loss = tf.reduce_sum(tf.square(nextQ - Qout))\n",
        "trainer = tf.train.GradientDescentOptimizer(learning_rate=0.1)\n",
        "update_model = trainer.minimize(loss)"
      ],
      "execution_count": 39,
      "outputs": []
    },
    {
      "cell_type": "code",
      "metadata": {
        "id": "94aJLpeljIEl"
      },
      "source": [
        "def test_accurracy():\n",
        "    test_batch_size = 200\n",
        "    c = 0\n",
        "    nb_success = 0.0\n",
        "    while c < test_batch_size:\n",
        "        is_gameover = False\n",
        "        state = env.reset()\n",
        "        while not is_gameover:\n",
        "            Q1 = sess.run(Qout, feed_dict={x: np.identity(16)[state:state+1]})[0]\n",
        "            action = np.argmax(Q1)\n",
        "            next_state, reward, is_gameover, _ = env.step(action)\n",
        "            state = next_state\n",
        "        if reward == 1:\n",
        "            nb_success += 1\n",
        "        c += 1\n",
        "    return nb_success / c"
      ],
      "execution_count": 40,
      "outputs": []
    },
    {
      "cell_type": "code",
      "metadata": {
        "id": "OzJfZIhyjPA2",
        "outputId": "56666e30-d8c2-428b-8e8c-0934f9a9c7c4",
        "colab": {
          "base_uri": "https://localhost:8080/"
        }
      },
      "source": [
        "accurracies = []\n",
        "rewards = []\n",
        "import time, pickle, os\n",
        "init = tf.global_variables_initializer()\n",
        "\n",
        "with tf.Session() as sess:\n",
        "    sess.run(init)\n",
        "    \n",
        "    while episode_count < nb_max_episodes:\n",
        "        state = env.reset()\n",
        "        is_gameover = False\n",
        "        reward_tot = 0\n",
        "        episode_step = 0\n",
        "        \n",
        "        while not is_gameover:\n",
        "            episode_step += 1\n",
        "\n",
        "            # Eval current state\n",
        "            Q1 = sess.run(Qout, feed_dict={x: np.identity(16)[state:state+1]})[0]\n",
        "            \n",
        "            if random.random() < e:\n",
        "                action = random.randint(0, nb_actions-1)\n",
        "            else:\n",
        "                action = np.argmax(Q1)\n",
        "\n",
        "            # Play best move with chance of random\n",
        "            next_state, reward, is_gameover, _ = env.step(action)\n",
        "\n",
        "            # Eval next state\n",
        "            Q2 = sess.run(Qout, feed_dict={x: np.identity(16)[next_state:next_state+1]})[0]\n",
        "            \n",
        "            # Update first state evaluation\n",
        "            Q1[action] += lr * (reward + y*np.max(Q2) - Q1[action])\n",
        "            sess.run(update_model,feed_dict={x: np.identity(16)[state:state+1], nextQ:[Q1]})\n",
        "\n",
        "            reward_tot += reward\n",
        "            total_steps += 1\n",
        "            state = next_state\n",
        "\n",
        "            if is_gameover:\n",
        "                break\n",
        "\n",
        "        e *= e_decay\n",
        "\n",
        "        if episode_count % test_freq == 0 and episode_count != 0:\n",
        "            accurr = test_accurracy()\n",
        "            accurracies.append(accurr)\n",
        "\n",
        "            if episode_count % log_freq == 0:\n",
        "                print('step: %s, episode: %s, accurracy: %s. random move probability: %s' % (total_steps, episode_count, accurr, e))\n",
        "\n",
        "        episode_count += 1\n",
        "        rewards.append(reward_tot)\n",
        "\n",
        "  \n",
        "    env.close()"
      ],
      "execution_count": 41,
      "outputs": [
        {
          "output_type": "stream",
          "text": [
            "step: 3711, episode: 500, accurracy: 0.13. random move probability: 0.6057725659163237\n",
            "step: 9417, episode: 1000, accurracy: 0.475. random move probability: 0.36732772934619257\n",
            "step: 16280, episode: 1500, accurracy: 0.555. random move probability: 0.22273980093919937\n",
            "step: 25090, episode: 2000, accurracy: 0.195. random move probability: 0.13506472547210188\n",
            "step: 34904, episode: 2500, accurracy: 0.625. random move probability: 0.08190040571973876\n",
            "step: 46274, episode: 3000, accurracy: 0.38. random move probability: 0.049662681604038215\n",
            "step: 58028, episode: 3500, accurracy: 0.63. random move probability: 0.030114404470033673\n",
            "step: 70703, episode: 4000, accurracy: 0.375. random move probability: 0.018260740807661956\n",
            "step: 84827, episode: 4500, accurracy: 0.675. random move probability: 0.011072928743333644\n",
            "step: 96889, episode: 5000, accurracy: 0.345. random move probability: 0.006714390847905742\n",
            "step: 110158, episode: 5500, accurracy: 0.345. random move probability: 0.004071465237738676\n",
            "step: 122932, episode: 6000, accurracy: 0.52. random move probability: 0.0024688507948989738\n",
            "step: 138798, episode: 6500, accurracy: 0.64. random move probability: 0.0014970591400305351\n",
            "step: 155582, episode: 7000, accurracy: 0.455. random move probability: 0.0009077851417265054\n",
            "step: 169878, episode: 7500, accurracy: 0.39. random move probability: 0.0005504617964007802\n",
            "step: 184511, episode: 8000, accurracy: 0.52. random move probability: 0.0003337884432878974\n",
            "step: 200741, episode: 8500, accurracy: 0.52. random move probability: 0.00020240228404777254\n",
            "step: 216346, episode: 9000, accurracy: 0.465. random move probability: 0.00012273248343838214\n",
            "step: 233462, episode: 9500, accurracy: 0.51. random move probability: 7.44223938075589e-05\n",
            "step: 247889, episode: 10000, accurracy: 0.14. random move probability: 4.5128172631071065e-05\n",
            "step: 264467, episode: 10500, accurracy: 0.765. random move probability: 2.7364773703542285e-05\n",
            "step: 285279, episode: 11000, accurracy: 0.715. random move probability: 1.659342260471908e-05\n",
            "step: 302609, episode: 11500, accurracy: 0.325. random move probability: 1.006190209068529e-05\n"
          ],
          "name": "stdout"
        }
      ]
    },
    {
      "cell_type": "code",
      "metadata": {
        "id": "fNJUVfkgnKR0"
      },
      "source": [
        " with open(\"frozenLake_qTable.pkl\", 'wb') as f:\n",
        "        pickle.dump(Q2,f)  "
      ],
      "execution_count": 42,
      "outputs": []
    },
    {
      "cell_type": "code",
      "metadata": {
        "id": "kFN7XEDRmOyj",
        "outputId": "7ba162a8-8be2-4ad0-a1a2-da7274d0167f",
        "colab": {
          "base_uri": "https://localhost:8080/",
          "height": 279
        }
      },
      "source": [
        "import matplotlib.pyplot as plt\n",
        "plt.plot(accurracies)\n",
        "plt.xlabel('steps')\n",
        "plt.ylabel('accuracy')\n",
        "plt.show()"
      ],
      "execution_count": 43,
      "outputs": [
        {
          "output_type": "display_data",
          "data": {
            "image/png": "[encoded data removed]",
            "text/plain": [
              "<Figure size 432x288 with 1 Axes>"
            ]
          },
          "metadata": {
            "tags": [],
            "needs_background": "light"
          }
        }
      ]
    },
    {
      "cell_type": "markdown",
      "metadata": {
        "id": "hDKSk88ltSqI"
      },
      "source": [
        "# Env variables\n",
        "nb_states = 16\n",
        "nb_actions = 4\n",
        "\n",
        "y = .90\n",
        "lr = .85\n",
        "e = 1.0\n",
        "e_decay = 0.999\n",
        "\n",
        "#Loop Parameters\n",
        "nb_max_episodes = 8000\n",
        "episode_count = 0\n",
        "total_steps = 0\n",
        "test_freq = 50\n",
        "log_freq = 500"
      ]
    },
    {
      "cell_type": "markdown",
      "metadata": {
        "id": "D1Ho4PkuseDn"
      },
      "source": [
        "For this assignment , there are 16 states and 4 possible actions. Learning rate has been takes of 0.85 and e_day=0.999.\n",
        "\n",
        "The model is trained on 8000 episodes with test_freq as 50.\n",
        "\n",
        "Accuracy was lower in when the number of steps were low. As the steps has been increased the model accuracy has been improved considerably.However on some steps model accuracy has dropped but recovered soon on the next steps. The best accuracy has been around 75% for the proposed model."
      ]
    }
  ]
}