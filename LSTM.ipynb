{
  "nbformat": 4,
  "nbformat_minor": 0,
  "metadata": {
    "colab": {
      "name": "258-LSTM.ipynb",
      "provenance": [],
      "collapsed_sections": []
    },
    "kernelspec": {
      "name": "python3",
      "display_name": "Python 3"
    }
  },
  "cells": [
    {
      "cell_type": "code",
      "metadata": {
        "id": "XUZEtKqVEkgh"
      },
      "source": [
        "# Import Datasets\n",
        "from keras.datasets import imdb"
      ],
      "execution_count": 1,
      "outputs": []
    },
    {
      "cell_type": "code",
      "metadata": {
        "id": "_KPzHwWoEtVO"
      },
      "source": [
        "vocabulary_size = 5000\n",
        "(X_tr, y_tr), (X_te, y_te) = imdb.load_data(num_words = vocabulary_size)\n",
        "(X_train, y_train), (X_test, y_test) = imdb.load_data(num_words = vocabulary_size)\n",
        "\n",
        "word2id = imdb.get_word_index()\n",
        "id2word = {i: word for word, i in word2id.items()}"
      ],
      "execution_count": 3,
      "outputs": []
    },
    {
      "cell_type": "code",
      "metadata": {
        "id": "xJBJ8gIXE8Ft",
        "outputId": "572297f4-7cf2-42b4-b5a5-131106e46429",
        "colab": {
          "base_uri": "https://localhost:8080/",
          "height": 51
        }
      },
      "source": [
        "print('Maximum  length: {}'.format(\n",
        "len(max((X_train + X_test), key=len))))\n",
        "print('Minimum  length: {}'.format(\n",
        "len(min((X_test + X_test), key=len))))"
      ],
      "execution_count": 4,
      "outputs": [
        {
          "output_type": "stream",
          "text": [
            "Maximum  length: 2697\n",
            "Minimum  length: 14\n"
          ],
          "name": "stdout"
        }
      ]
    },
    {
      "cell_type": "code",
      "metadata": {
        "id": "8x5RDcqnFCtq"
      },
      "source": [
        "from keras.preprocessing import sequence\n",
        "max_words = 500\n",
        "X_train = sequence.pad_sequences(X_train, maxlen=max_words)\n",
        "X_test = sequence.pad_sequences(X_test, maxlen=max_words)"
      ],
      "execution_count": 5,
      "outputs": []
    },
    {
      "cell_type": "code",
      "metadata": {
        "id": "0zQjZHV3FD8b",
        "outputId": "992dfe3a-8e83-4af1-ab60-e0a47dabad07",
        "colab": {
          "base_uri": "https://localhost:8080/",
          "height": 272
        }
      },
      "source": [
        "from keras import Sequential\n",
        "from keras.layers import Embedding, LSTM, Dense, Dropout\n",
        "embedding_size=32\n",
        "model=Sequential()\n",
        "model.add(Embedding(vocabulary_size, embedding_size, input_length=max_words))\n",
        "model.add(LSTM(100))\n",
        "model.add(Dense(1, activation='sigmoid'))\n",
        "print(model.summary())"
      ],
      "execution_count": 6,
      "outputs": [
        {
          "output_type": "stream",
          "text": [
            "Model: \"sequential\"\n",
            "_________________________________________________________________\n",
            "Layer (type)                 Output Shape              Param #   \n",
            "=================================================================\n",
            "embedding (Embedding)        (None, 500, 32)           160000    \n",
            "_________________________________________________________________\n",
            "lstm (LSTM)                  (None, 100)               53200     \n",
            "_________________________________________________________________\n",
            "dense (Dense)                (None, 1)                 101       \n",
            "=================================================================\n",
            "Total params: 213,301\n",
            "Trainable params: 213,301\n",
            "Non-trainable params: 0\n",
            "_________________________________________________________________\n",
            "None\n"
          ],
          "name": "stdout"
        }
      ]
    },
    {
      "cell_type": "code",
      "metadata": {
        "id": "7nIarTl6FGtm"
      },
      "source": [
        "model.compile(loss='binary_crossentropy', \n",
        "             optimizer='adam', \n",
        "             metrics=['accuracy'])"
      ],
      "execution_count": 7,
      "outputs": []
    },
    {
      "cell_type": "code",
      "metadata": {
        "id": "QacKXH0PFJhd",
        "outputId": "8c3593f5-4ac5-4ec6-e5f5-717c18771522",
        "colab": {
          "base_uri": "https://localhost:8080/",
          "height": 85
        }
      },
      "source": [
        "batch_size = 32\n",
        "num_epochs = 2\n",
        "X_valid, y_valid = X_train[:batch_size], y_train[:batch_size]\n",
        "X_train2, y_train2 = X_train[batch_size:], y_train[batch_size:]\n",
        "results=model.fit(X_train2, y_train2, validation_data=(X_valid, y_valid), batch_size=batch_size, epochs=num_epochs)"
      ],
      "execution_count": 8,
      "outputs": [
        {
          "output_type": "stream",
          "text": [
            "Epoch 1/2\n",
            "781/781 [==============================] - 351s 450ms/step - loss: 0.5249 - accuracy: 0.7432 - val_loss: 0.4437 - val_accuracy: 0.7812\n",
            "Epoch 2/2\n",
            "781/781 [==============================] - 368s 472ms/step - loss: 0.3662 - accuracy: 0.8426 - val_loss: 0.1605 - val_accuracy: 0.9375\n"
          ],
          "name": "stdout"
        }
      ]
    },
    {
      "cell_type": "code",
      "metadata": {
        "id": "DLTI9GlBKcGc",
        "outputId": "4cab7c11-80f6-447f-a2f8-f5b451c701ae",
        "colab": {
          "base_uri": "https://localhost:8080/",
          "height": 88
        }
      },
      "source": [
        "#Predicting classes\n",
        "scores = model.predict_classes(X_test)"
      ],
      "execution_count": 9,
      "outputs": [
        {
          "output_type": "stream",
          "text": [
            "WARNING:tensorflow:From <ipython-input-9-6eaa12017f31>:2: Sequential.predict_classes (from tensorflow.python.keras.engine.sequential) is deprecated and will be removed after 2021-01-01.\n",
            "Instructions for updating:\n",
            "Please use instead:* `np.argmax(model.predict(x), axis=-1)`,   if your model does multi-class classification   (e.g. if it uses a `softmax` last-layer activation).* `(model.predict(x) > 0.5).astype(\"int32\")`,   if your model does binary classification   (e.g. if it uses a `sigmoid` last-layer activation).\n"
          ],
          "name": "stdout"
        }
      ]
    },
    {
      "cell_type": "code",
      "metadata": {
        "id": "nqkudlTaa4Q4",
        "outputId": "39059530-02e2-4f07-d57c-72d534f31127",
        "colab": {
          "base_uri": "https://localhost:8080/",
          "height": 139
        }
      },
      "source": [
        "print('---Review---')\n",
        "print([id2word.get(i, ' ') for i in X_te[6]])\n",
        "print('---Actual Result---')\n",
        "print(y_te[6])\n",
        "print('---prediction---')\n",
        "print(scores[6])"
      ],
      "execution_count": 10,
      "outputs": [
        {
          "output_type": "stream",
          "text": [
            "---Review---\n",
            "['the', 'instance', 'absolutely', 'in', 'at', 'out', 'is', 'lot', 'br', 'is', 'mostly', 'humans', 'of', 'someone', 'and', 'and', 'of', 'wear', 'br', 'and', 'and', 'it', 'of', 'their', 'br', 'of', 'and', 'br', 'of', 'ended', 'br', 'of', 'and', 'this', 'and', 'and', 'of', 'you', 'debut', 'film', 'of', 'ended', 'and', 'sacrifice', 'to', 'of', 'energy', 'and', 'of', 'proud', 'br', 'of', 'so', 'and', 'beautiful', 'put', 'special', 'really', 'of', 'brooklyn', 'strength', 'it', 'age', 'as', 'and', 'it', 'released', 'in', 'of', 'and', 'in', 'wave', 'this', 'trouble', 'no', 'of', 'and', 'and', 'are', 'is', 'mostly', 'johnson', 'br', 'letting', 'and', 'of', 'and', 'and', 'bands', 'girlfriend', 'to', 'mann', 'things', 'of', 'letting', 'anna', 'she', 'of', 'correct', 'is', 'and', 'and', 'it', 'cry', 'in', 'and', 'of', 'and', 'not', 'they', 'of', 'writer', 'no', 'of', 'and', 'saw', 'first', 'costs', 'were', 'and', 'unnecessary', 'of', 'in', 'surely', \"i'm\", 'and', 'country', 'hello', 'price', 'once', 'it', 'joe', 'filmmakers', 'marriage', 'and', 'for', 'as', 'with', 'of', 'corporate', 'br', 'of', 'seem', 'and', 'wear', 'for', 'story', 'and', 'this', 'and', 'of', 'you', 'it', 'hopes', 'first', 'strange', 'hour', 'budget', 'to', 'and', 'lives', 'are', 'of', 'so', 'attack', 'or', 'of', 'performances', 'of', 'and', 'letting', 'to', 'flashbacks', 'of', 'and', 'i', 'i', 'and', 'with', 'is', 'brooklyn', 'continue', 'not', 'they', 'of', 'frank', 'happy', 'his', 'torture', 'in', 'could', 'is', 'charm', 'lives', 'and', 'short', 'century', 'and', 'in', 'own', 'of', 'you', 'is', 'and', 'few', 'her', 'for', 'of', 'self', 'red', 'all', 'it', 'and', 'are', 'is', 'nine', 'to', 'stiller', 'brooklyn', 'their', 'as', 'medical', 'it', 'short', 'who', 'of', 'bill', 'br', 'and', 'i', 'i', 'spoilers', 'and', 'and', 'are', \"it's\", 'of', 'powerful', 'br', 'country', 'and', 'like', 'me', 'tribute', 'pre', 'pat', 'of', 'funnier', 'martin', 'br', 'of', 'down', 'he', 'when', 'by', 'and', 'or', 'and', 'as', 'medical', 'it', 'seem', 'short', 'who', 'pictures', 'and', 'this', 'called', 'and', 'book', 'in', 'kill', 'to', 'dog', 'audience', 'and', 'not', 'this', 'and', 'even', 'by', 'unrealistic', 'it', 'down', 'movie', 'is', 'reality', \"it's\", 'eating', 'of', 'their', 'it', 'coming', \"i'm\", 'is', 'original', 'br', 'something', 'for', 'he', 'kim', 'this', 'is', 'excellent', 'personal', 'extremely', 'movie', 'disjointed', 'of', 'tried', 'to', 'and', 'br', 'men', 'rushed', 'in', 'dry', 'is', 'firstly', 'personal', 'are', 'of', 'self', 'kills', 'ass', 'and', 'other', 'short', 'of', 'disjointed', 'not', 'even', 'by', 'and', 'that', 'her', 'much', 'movie', 'and', 'i', 'i', 'of', 'therefore', 'emotion', 'br', 'of', 'ended', 'cell', 'this', 'were', 'it', 'and', 'who', 'of', 'and', 'and', 'br', 'and', 'and', 'or', 'and', 'this', 'of', 'and', 'this', 'par', 'of', 'and', 'may', 'of', 'ended', 'to', 'were', 'beneath', 'it', 'and', 'film', 'and', 'to', 'of', 'and', 'and', 'br', 'of', 'and', 'and', 'were', 'vivid', 'film', 'and', 'i', 'i', 'and', 'engaging', 'of', 'medical', 'br', \"what's\", 'so', 'without', 'to', 'and', 'that', 'cast', 'not', 'or', 'is', 'compared', 'money', 'blown', 'in', 'and', 'thief', 'of', 'anna', 'br', 'is', 'and', 'and', 'of', 'jack', 'own', 'want', 'as', 'hard', 'comes', 'cases', 'and', 'and', 'of', '5', 'br', 'of', 'here', 'as', 'medical', 'it', 'short', 'this', 'performance', 'someone', 'they', 'and', 'other', 'no', 'of', 'and', 'and', 'it', 'and', 'show', 'of', 'able', 'be', 'and', 'and', 'or', 'of', 'and', 'that', 'with', 'while', 'and', 'for', 'of', 'broken', 'short', 'in', 'and', 'to', 'surely', 'of', 'and', 'and', 'sacrifice', 'as', 'paul', 'earned', 'of', 'rolled', 'in', 'of', 'miserable', 'br', 'of', 'and', 'cop', 'i', 'i', 'of', 'its', 'equal', 'paul', 'this', 'of', 'you', 'to', 'came', 'this', 'an', 'br', 'you', 'guess', 'it', 'of', 'and', 'letting', 'of', 'brazil', 'and', 'br', 'of', 'letting', 'he', 'waiting', 'film', 'thrillers', 'br', 'cares', 'and', 'to', 'earlier', 'stop', 'it', 'point', 'and', 'to', 'his', 'poster', 'worst', 'of', 'century', 'audiences', 'br', 'of', 'surprises', 'br', 'is', 'again', 'into', 'performance', 'this', 'of', 'emma', 'br', 'of', 'self', 'victim', 'i', 'i', 'of', 'and', 'female', 'br', 'and', 'and', 'to', 'jumps', 'and', 'of', 'letting', 'he', 'porno', 'and', 'film', 'both', 'derek', 'hysterical', 'or', 'is', 'gross', 'they', 'of', 'try', 'br', 'of', 'letting', 'of', \"'the\", 'br', 'of', 'paul', 'it', 'meaningless', 'and', 'may', 'of', 'and', 'constantly', 'to', 'is', 'again', 'and', 'like', 'and', 'she', 'plastic', 'in', 'and', 'any', 'in', 'known', 'is', 'wants', 'she', 'br', 'is', 'annoyed', 'school', 'and', 'this', 'fact', 'watch', 'never', 'instantly', 'who', 'is', 'and', 'massive', 'it', 'of', 'actresses', 'and', 'br', 'of', 'werewolf', 'and', 'this', 'and', 'this', 'and', 'to', 'lines', 'is', 'and', 'disappointment', 'br', 'of', 'fact', 'br', 'of', 'and', 'and', 'i', 'i', 'of', 'home', 'br', 'is', 'got', 'killer', 'lame', 'in', 'is', 'imdb', 'and', 'and', 'things', 'of', 'letting', 'this', 'is', 'paul', 'for', 'there', 'will', 'and', 'who', 'mirror', 'this', 'obsessed', 'and', 'who', 'dancers', 'and', 'this', '2004', 'to', 'ready', 'and', 'this', 'of', 'and', 'as', 'paul', 'it', 'running', 'shoes', 'or', 'co', 'repeated', 'marriage', 'burned', 'some', 'when', 'away', 'with', 'see', 'is', 'strange', 'father', 'share', 'i', 'i', 'and', 'it', 'is', 'you', 'for', 'of', 'brooklyn', \"we're\", 'and', 'that', 'but', 'though', 'example', 'recognize', 'to', 'that', 'but', 'of', 'and', 'that', 'and', 'br', 'leading', 'to', 'and', 'film', 'of', 'simplistic', 'and', 'br', 'of', 'and', 'and', 'and', 'make', 'suspense', 'step', 'there', 'will', 'are', 'you', 'al', 'like', 'one', 'brenda', 'to', 'see', 'compared', 'movements', 'are', 'health', 'and', 'this', 'and', 'drama', 'and', 'gore']\n",
            "---Actual Result---\n",
            "1\n",
            "---prediction---\n",
            "[1]\n"
          ],
          "name": "stdout"
        }
      ]
    },
    {
      "cell_type": "code",
      "metadata": {
        "id": "dsMaoDKcg9oJ",
        "outputId": "8e4cf297-8bbe-4c20-ceaf-4ccde75a8c72",
        "colab": {
          "base_uri": "https://localhost:8080/",
          "height": 139
        }
      },
      "source": [
        "print('---Review---')\n",
        "print([id2word.get(i, ' ') for i in X_te[7]])\n",
        "print('---Actual Result---')\n",
        "print(y_te[7])\n",
        "print('---prediction---')\n",
        "print(scores[7])"
      ],
      "execution_count": 11,
      "outputs": [
        {
          "output_type": "stream",
          "text": [
            "---Review---\n",
            "['the', 'of', 'and', 'animation', 'and', 'male', 'it', 'and', 'in', 'and', 'explanation', 'and', 'male', 'take', 'no', 'and', 'and', 'and', 'risk', 'this', 'kill', 'in', 'exploitation', 'is', 'vhs', 'fred', 'in', 'of', 'and', 'be', 'male', 'it', 'mentally', 'who', 'and', 'male', 'watch', 'is', 'popular', 'catch', 'know', 'and', 'it', 'and', 'or', 'kill', 'is', 'and', 'and', 'for', 'and', 'male', \"isn't\", 'and', 'male', 'her', 'for', 'would', 'well', 'thousands', 'about', 'and', 'heat', 'as', 'it', 'and', 'to', 'of', 'universe', 'form', 'this', 'did', 'her', 'people', 'and', 'to', 'and', 'of', 'hollywood', 'br', 'of', 'you', 'furthermore', 'who', 'film', 'reading', 'to', 'they', 'of', 'here', 'and', 'male', 'lines', 'enemy', 'not', 'like', 'it', 'of', 'help', 'i', 'i', 'of', 'male', 'their', 'it', 'of', 'time', 'buy', 'treatment', 'for', 'it', 'short', 'in', 'classic', 'to', 'pay', 'is', 'their', 'may', 'comedic', 'make', 'is', 'getting', 'using', 'more', 'he', 'either', 'watched', 'yourself', 'g', 'an', 'br', 'really', 'he', 'judge', 'do', '7', 'to', 'commercial', 'annie', 'make', 'out', 'so', 'told', 'rest', 'you', 'and', 'there', 'movies', 'plot', 'jack', 'this', 'having', 'sidekick', 'to', 'childhood', 'any', 'this', 'so', 'family', 'stopped', 'stunning', 'make', 'his', 'makes', 'your', 'not', 'make', 'present', 'in', 'at', 'and', 'to', 'explanation', 'one', 'bit', 'get', 'still', 'been', 'as']\n",
            "---Actual Result---\n",
            "0\n",
            "---prediction---\n",
            "[0]\n"
          ],
          "name": "stdout"
        }
      ]
    },
    {
      "cell_type": "code",
      "metadata": {
        "id": "09fRtVfmhahy",
        "outputId": "31799c43-f648-4203-f450-73f1ae1cdbdc",
        "colab": {
          "base_uri": "https://localhost:8080/",
          "height": 139
        }
      },
      "source": [
        "print('---Review---')\n",
        "print([id2word.get(i, ' ') for i in X_te[9]])\n",
        "print('---Actual Result---')\n",
        "print(y_te[9])\n",
        "print('---prediction---')\n",
        "print(scores[9])"
      ],
      "execution_count": 13,
      "outputs": [
        {
          "output_type": "stream",
          "text": [
            "---Review---\n",
            "['the', 'as', 'you', 'it', 'know', 'of', 'soul', 'separate', 'web', 'in', 'one', 'fill', 'old', 'was', 'into', 'and', 'for', 'of', 'front', 'side', 'soul', 'victim', 'than', 'shot', 'to', 'after', 'one', 'will', 'miss', 'and', 'who', 'is', 'andrew', 'going', 'movie', 'that', 'modern', 'some', 'as', 'with', 'his', 'in', 'at', 'of', 'liked', 'i', 'i', 'events', 'fortunately', 'entirely', 'and', 'than', 'due', 'film', \"don't\", 'seemed', 'as', 'father', 'soul', 'you', 'or', 'technical', 'aforementioned', 'modern', 'some', 'joke', 'or', 'of', 'and', 'br', 'talented', 'last', 'fan', 'or', 'aforementioned', 'to', 'of', 'stevens', 'and', 'br', 'were', 'exaggerated', 'fault', 'in', \"i'd\", 'of', 'separate', 'first', 'so', 'mafia', 'in', 'of', 'resulting', 'day', 'original', 'was', 'knowledge', 'in', 'terrible', \"don't\", 'soul', 'teacher', 'well', 'at', 'sick', 'they', 'an', 'harry', 'i', 'i', \"wasn't\", 'that', 'it', 'his', 'world', 'of', 'stretch', 'br', 'of', 'how', 'you', 'old', 'that', 'and', 'an', 'of', 'track', 'and', 'br', 'gives', 'although', 'this', 'soul', 'is', 'and', 'guy', 'for', 'and', 'of', 'and', 'may', 'his', 'out', 'seen', 'not', 'job', 'films', 'and', 'and', 'and', 'in', 'of', 'compelled', 'and', 'br', 'decade', 'to', 'bring', 'waited', 'movie', 'of', 'and', 'this', 'of', 'how', 'you', 'worst', 'but', 'an', 'as', 'that', 'comedies', 'is', 'and', 'seemed', 'you', \"wasn't\", 'in', 'of', 'too', 'of', 'soul', 'with', 'point', 'present', 'in', 'at', 'to', 'fight', 'fits', 'i', 'i', 'close', 'decade', 'teacher', 'movie', 'of', 'soul', 'to', 'be', 'and', 'competition', \"hasn't\", 'faced', 'film', 'and', 'refreshing', 'and', 'besides', 'rex', 'easy', 'this', 'and', 'br', 'of', 'and', 'exciting', 'naked', 'shows', 'be', 'humanity', 'this', 'peter', 'and', 'and', 'of', 'and', 'allow', 'and', 'this', 'themselves', 'liners', 'lugosi', 'br', 'and', 'and', 'animation', 'projects', 'to', 'and', 'and', 'of', 'and', 'via', 'and', 'directing', 'faced', 'and', 'give', 'movie', 'high', 'to', 'movie', 'of', 'soul', 'of', 'attention', 'and', \"i'd\", 'this', 'shot', 'boring', 'course', 'rex', 'to', 'and', 'go', 'american', 'decade', 'to', 'and', 'pushing', 'of', \"1950's\", 'able', 'br', 'suppose', 'and', 'i', 'i', 'more', 'he', 'good', 'holds', 'and', 'this', 'as', 'you', 'has', 'of', 'see', 'and', 'was', 'well', 'had', 'come', 'some', 'it', 'is', 'soundtrack', 'in', 'of', 'guy', 'this', 'good', 'details', 'really', 'was', 'two', 'it', 'basically', 'episodes', 'in', 'of', 'too', 'as', 'you', 'it', 'is', 'attention', 'and', 'matter', 'more', 'else', 'interesting', \"that's\", 'my', 'in', 'christ', 'pushing', 'sorry', 'part', 'are', 'i', 'i', 'asian', 'as', 'it', 'is', 'imagination', 'very', 'you', 'was', 'fight', 'wonderful', \"doesn't\", 'as', 'this', 'and', 'film', 'of', 'how', 'to', 'them', 'and', 'but', \"don't\", 'very', 'of', 'original', 'after', 'one', 'will', 'me', 'that', 'worker', '4', 'aforementioned', 'to', 'decade']\n",
            "---Actual Result---\n",
            "1\n",
            "---prediction---\n",
            "[1]\n"
          ],
          "name": "stdout"
        }
      ]
    }
  ]
}