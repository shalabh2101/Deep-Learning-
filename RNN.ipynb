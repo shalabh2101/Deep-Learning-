{
  "nbformat": 4,
  "nbformat_minor": 0,
  "metadata": {
    "colab": {
      "name": "CMPE258-RNN.ipynb",
      "provenance": [],
      "collapsed_sections": []
    },
    "kernelspec": {
      "name": "python3",
      "display_name": "Python 3"
    }
  },
  "cells": [
    {
      "cell_type": "code",
      "metadata": {
        "id": "fNGdlomA3FPY"
      },
      "source": [
        "import numpy as np\n",
        "from numpy.random import randn\n",
        "import numpy as np\n",
        "import random\n"
      ],
      "execution_count": 7,
      "outputs": []
    },
    {
      "cell_type": "code",
      "metadata": {
        "id": "YjqjO_EL3mpp"
      },
      "source": [
        "# Taking Raw Sentiments data\n",
        "\n",
        "train_data = {\n",
        "  'good': True,\n",
        "  'bad': False,\n",
        "  'happy': True,\n",
        "  'sad': False,\n",
        "  'not good': False,\n",
        "  'not bad': True,\n",
        "  'not happy': False,\n",
        "  'i am happy':True,\n",
        "  'this is not good':False\n",
        "}\n",
        "\n",
        "test_data = {\n",
        "  'is happy': True,\n",
        "  'i am good': True,\n",
        "  'this is not happy': False,\n",
        "  'i am not good': False,\n",
        "  'this is good':True\n",
        "  \n",
        "}\n"
      ],
      "execution_count": 12,
      "outputs": []
    },
    {
      "cell_type": "code",
      "metadata": {
        "id": "5pIPv4RE4pxp",
        "outputId": "02d8baaa-725f-406b-b0a2-56609c7f0f6b",
        "colab": {
          "base_uri": "https://localhost:8080/",
          "height": 34
        }
      },
      "source": [
        "\n",
        "# Vocabulary.\n",
        "vocab = list(set([w for text in train_data.keys() for w in text.split(' ')]))\n",
        "vocab_size = len(vocab)\n",
        "print('%d unique words found' % vocab_size)\n",
        "\n",
        "# Assign indices to each word.\n",
        "word_to_idx = { w: i for i, w in enumerate(vocab) }\n",
        "idx_to_word = { i: w for i, w in enumerate(vocab) }\n",
        "\n",
        "def createInputs(text):\n",
        "\n",
        " # Returns an array of one-hot vectors representing the words in the input text string.\n",
        "\n",
        "  inputs = []\n",
        "  for w in text.split(' '):\n",
        "    v = np.zeros((vocab_size, 1))\n",
        "    v[word_to_idx[w]] = 1\n",
        "    inputs.append(v)\n",
        "  return inputs\n",
        "\n",
        "def softmax(xs):\n",
        "  # Applies the Softmax Function to the input array.\n",
        "  return np.exp(xs) / sum(np.exp(xs))"
      ],
      "execution_count": 13,
      "outputs": [
        {
          "output_type": "stream",
          "text": [
            "9 unique words found\n"
          ],
          "name": "stdout"
        }
      ]
    },
    {
      "cell_type": "code",
      "metadata": {
        "id": "HFqoW9Bz47QH"
      },
      "source": [
        "class RNN:\n",
        "  def __init__(self, input_size, output_size, hidden_size=64):\n",
        "\n",
        "    # Weights\n",
        "    self.Whh = randn(hidden_size, hidden_size) / 1000\n",
        "    self.Wxh = randn(hidden_size, input_size) / 1000\n",
        "    self.Why = randn(output_size, hidden_size) / 1000\n",
        "\n",
        "    # Biases\n",
        "    self.bh = np.zeros((hidden_size, 1))\n",
        "    self.by = np.zeros((output_size, 1))\n",
        "\n",
        "  def forward(self, inputs):\n",
        "  \n",
        "    # Method for forward pass of the RNN \n",
        "    h = np.zeros((self.Whh.shape[0], 1))\n",
        "\n",
        "    self.last_inputs = inputs\n",
        "    self.last_hs = { 0: h }\n",
        "\n",
        "    # Perform each step of the RNN\n",
        "    for i, x in enumerate(inputs):\n",
        "      h = np.tanh(self.Wxh @ x + self.Whh @ h + self.bh)\n",
        "      self.last_hs[i + 1] = h\n",
        "\n",
        "    # Compute the output\n",
        "    y = self.Why @ h + self.by\n",
        "\n",
        "    return y, h\n",
        "\n",
        "  def backprop(self, d_y, learn_rate=2e-2):\n",
        "   \n",
        "    # Method for Backword pass of the RNN \n",
        "    n = len(self.last_inputs)\n",
        "\n",
        "    # Calculate Diffrentiation .\n",
        "    d_Why = d_y @ self.last_hs[n].T\n",
        "    d_by = d_y\n",
        "\n",
        "    # Initialize variables to zero.\n",
        "    d_Whh = np.zeros(self.Whh.shape)\n",
        "    d_Wxh = np.zeros(self.Wxh.shape)\n",
        "    d_bh = np.zeros(self.bh.shape)\n",
        "\n",
        "    # Calculate dL/dh for the last h.\n",
        "    # dL/dh = dL/dy * dy/dh\n",
        "    d_h = self.Why.T @ d_y\n",
        "\n",
        "    # Backpropagate through time.\n",
        "    for t in reversed(range(n)):\n",
        "      temp = ((1 - self.last_hs[t + 1] ** 2) * d_h)\n",
        "      d_bh += temp\n",
        "      d_Whh += temp @ self.last_hs[t].T\n",
        "      d_Wxh += temp @ self.last_inputs[t].T\n",
        "      d_h = self.Whh @ temp\n",
        "\n",
        "    for d in [d_Wxh, d_Whh, d_Why, d_bh, d_by]:\n",
        "      np.clip(d, -1, 1, out=d)\n",
        "\n",
        "    # Update weights and biases using gradient descent.\n",
        "    self.Whh -= learn_rate * d_Whh\n",
        "    self.Wxh -= learn_rate * d_Wxh\n",
        "    self.Why -= learn_rate * d_Why\n",
        "    self.bh -= learn_rate * d_bh\n",
        "    self.by -= learn_rate * d_by\n"
      ],
      "execution_count": 14,
      "outputs": []
    },
    {
      "cell_type": "code",
      "metadata": {
        "id": "Pkf1shS-3O9T",
        "outputId": "dfc45ecc-4f89-46db-9aa9-c92c73901a13",
        "colab": {
          "base_uri": "https://localhost:8080/",
          "height": 357
        }
      },
      "source": [
        "\n",
        "# Initialize our RNN!\n",
        "rnn = RNN(vocab_size, 2)\n",
        "\n",
        "def processRNN(data, backprop=True):\n",
        "  \n",
        "  #Applying the constructed RNN on data\n",
        "  items = list(data.items())\n",
        "  random.shuffle(items)\n",
        "\n",
        "  loss = 0\n",
        "  num_correct = 0\n",
        "\n",
        "  for x, y in items:\n",
        "    inputs = createInputs(x)\n",
        "    target = int(y)\n",
        "\n",
        "    # Forward\n",
        "    out, _ = rnn.forward(inputs)\n",
        "    probs = softmax(out)\n",
        "\n",
        "    # Calculate loss / accuracy\n",
        "    loss -= np.log(probs[target])\n",
        "    num_correct += int(np.argmax(probs) == target)\n",
        "\n",
        "    if backprop:\n",
        "      # Build dL/dy\n",
        "      d_L_d_y = probs\n",
        "      d_L_d_y[target] -= 1\n",
        "\n",
        "      # Backward\n",
        "      rnn.backprop(d_L_d_y)\n",
        "\n",
        "  return loss / len(data), num_correct / len(data)\n",
        "\n",
        "# Training loop\n",
        "for epoch in range(500):\n",
        "  train_loss, train_acc = processRNN(train_data)\n",
        "\n",
        "  if epoch % 50 == 25:\n",
        "    print('-----------Epoch %d-----------' % (epoch + 1))\n",
        "  \n",
        "\n",
        "    test_loss, test_acc = processRNN(test_data, backprop=False)\n",
        "    print('Test:\\tLoss %.2f | Accuracy: %.2f' % (test_loss, test_acc))\n"
      ],
      "execution_count": 15,
      "outputs": [
        {
          "output_type": "stream",
          "text": [
            "-----------Epoch 26-----------\n",
            "Test:\tLoss 0.72 | Accuracy: 0.40\n",
            "-----------Epoch 76-----------\n",
            "Test:\tLoss 0.72 | Accuracy: 0.40\n",
            "-----------Epoch 126-----------\n",
            "Test:\tLoss 0.72 | Accuracy: 0.40\n",
            "-----------Epoch 176-----------\n",
            "Test:\tLoss 0.73 | Accuracy: 0.40\n",
            "-----------Epoch 226-----------\n",
            "Test:\tLoss 0.78 | Accuracy: 0.40\n",
            "-----------Epoch 276-----------\n",
            "Test:\tLoss 0.83 | Accuracy: 0.40\n",
            "-----------Epoch 326-----------\n",
            "Test:\tLoss 0.83 | Accuracy: 0.40\n",
            "-----------Epoch 376-----------\n",
            "Test:\tLoss 0.83 | Accuracy: 0.40\n",
            "-----------Epoch 426-----------\n",
            "Test:\tLoss 0.78 | Accuracy: 0.40\n",
            "-----------Epoch 476-----------\n",
            "Test:\tLoss 0.31 | Accuracy: 1.00\n"
          ],
          "name": "stdout"
        }
      ]
    }
  ]
}